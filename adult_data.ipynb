{
 "cells": [
  {
   "cell_type": "code",
   "execution_count": 2,
   "metadata": {},
   "outputs": [],
   "source": [
    "import pandas as pd\n",
    "import numpy as np\n",
    "from ucimlrepo import fetch_ucirepo\n",
    "from sklearn.preprocessing import LabelEncoder\n",
    "adult = fetch_ucirepo(id=2)\n",
    "X = adult.data.features\n",
    "y = adult.data.targets\n",
    "df = pd.concat([X, y], axis=1, join='inner')\n",
    "df_na = df.copy()\n",
    "df_na['workclass'] = df['workclass'].replace('?', np.nan)\n",
    "df_na['occupation'] = df['occupation'].replace('?', np.nan)\n",
    "df_na['native-country'] = df['native-country'].replace('?', np.nan)\n",
    "df_fi = df_na.dropna()\n",
    "df_fi = df_fi.drop_duplicates()\n",
    "df_fi = df_fi.drop(['education-num', 'capital-gain', 'capital-loss'], axis=1)\n",
    "df = df_fi.copy()\n",
    "e = LabelEncoder()\n",
    "df['workclass'] = e.fit_transform(df['workclass'])\n",
    "df['education'] = e.fit_transform(df['education'])\n",
    "df['marital-status'] = e.fit_transform(df['marital-status'])\n",
    "df['occupation'] = e.fit_transform(df['occupation'])\n",
    "df['relationship'] = e.fit_transform(df['relationship'])\n",
    "df['race'] = e.fit_transform(df['race'])\n",
    "df['sex'] = e.fit_transform(df['sex'])\n",
    "df['native-country'] = e.fit_transform(df['native-country'])\n",
    "df.to_csv('adult.csv')  "
   ]
  }
 ],
 "metadata": {
  "kernelspec": {
   "display_name": "cs7641",
   "language": "python",
   "name": "python3"
  },
  "language_info": {
   "codemirror_mode": {
    "name": "ipython",
    "version": 3
   },
   "file_extension": ".py",
   "mimetype": "text/x-python",
   "name": "python",
   "nbconvert_exporter": "python",
   "pygments_lexer": "ipython3",
   "version": "3.8.18"
  }
 },
 "nbformat": 4,
 "nbformat_minor": 2
}
